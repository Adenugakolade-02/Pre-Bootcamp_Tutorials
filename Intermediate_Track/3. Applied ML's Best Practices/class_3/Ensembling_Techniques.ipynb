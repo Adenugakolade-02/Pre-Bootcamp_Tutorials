{
  "nbformat": 4,
  "nbformat_minor": 0,
  "metadata": {
    "colab": {
      "name": "Ensembling Techniques.ipynb",
      "provenance": [],
      "toc_visible": true
    },
    "kernelspec": {
      "name": "python3",
      "display_name": "Python 3"
    }
  },
  "cells": [
    {
      "cell_type": "code",
      "metadata": {
        "id": "jdtDnU2zW27k"
      },
      "source": [
        "! pip install catboost"
      ],
      "execution_count": null,
      "outputs": []
    },
    {
      "cell_type": "code",
      "metadata": {
        "id": "Ni0pjoChRUpR"
      },
      "source": [
        "#import necessary libraries\n",
        "import pandas as pd\n",
        "import numpy as np\n",
        "import matplotlib.pyplot as plt\n",
        "import seaborn as sns\n",
        "%matplotlib inline\n",
        " \n",
        "from scipy.stats import skew\n",
        " \n",
        "import warnings\n",
        "warnings.filterwarnings(\"ignore\")\n",
        " \n",
        "pd.set_option('display.max_columns', None)"
      ],
      "execution_count": null,
      "outputs": []
    },
    {
      "cell_type": "code",
      "metadata": {
        "id": "SC1Z4UiYSaXt"
      },
      "source": [
        "train = pd.read_csv('/content/drive/My Drive/Kaggle house pricing /train.csv')\n",
        "test = pd.read_csv('/content/drive/My Drive/Kaggle house pricing /test.csv')"
      ],
      "execution_count": null,
      "outputs": []
    },
    {
      "cell_type": "code",
      "metadata": {
        "id": "Y94FDjg0S1X3"
      },
      "source": [
        "data = pd.concat([train.drop(\"SalePrice\", axis=1),test], axis=0) #Join train and test dataset\n",
        "y = train[['SalePrice']]"
      ],
      "execution_count": null,
      "outputs": []
    },
    {
      "cell_type": "code",
      "metadata": {
        "id": "bpNW92s-TYjm"
      },
      "source": [
        "#Drop features with high missing values(over 80%)\n",
        "high_missing_cols = ['PoolQC', 'MiscFeature', 'Alley', 'Fence',]\n",
        "data = data.drop(high_missing_cols, axis=1)"
      ],
      "execution_count": null,
      "outputs": []
    },
    {
      "cell_type": "code",
      "metadata": {
        "id": "EyWxiwBjTgtf"
      },
      "source": [
        " # I'll drop some features due to multicollinearity, low class representation, etc\n",
        "to_drop = ['Id', 'YrSold', 'MoSold', 'Utilities', 'Street', 'Condition2', 'RoofMatl', 'Heating',\n",
        "           'LowQualFinSF', '3SsnPorch', 'PoolArea', 'MiscVal']\n",
        "data = data.drop(to_drop, axis=1)"
      ],
      "execution_count": null,
      "outputs": []
    },
    {
      "cell_type": "code",
      "metadata": {
        "id": "Jafc0ah-TmGP",
        "outputId": "c4ac755c-bf81-4aa0-ca6e-18832d83ba30",
        "colab": {
          "base_uri": "https://localhost:8080/",
          "height": 173
        }
      },
      "source": [
        " #Get list of categorical features\n",
        "categorical_cols = data.select_dtypes(include=['object']).columns\n",
        "categorical_cols"
      ],
      "execution_count": null,
      "outputs": [
        {
          "output_type": "execute_result",
          "data": {
            "text/plain": [
              "Index(['MSZoning', 'LotShape', 'LandContour', 'LotConfig', 'LandSlope',\n",
              "       'Neighborhood', 'Condition1', 'BldgType', 'HouseStyle', 'RoofStyle',\n",
              "       'Exterior1st', 'Exterior2nd', 'MasVnrType', 'ExterQual', 'ExterCond',\n",
              "       'Foundation', 'BsmtQual', 'BsmtCond', 'BsmtExposure', 'BsmtFinType1',\n",
              "       'BsmtFinType2', 'HeatingQC', 'CentralAir', 'Electrical', 'KitchenQual',\n",
              "       'Functional', 'FireplaceQu', 'GarageType', 'GarageFinish', 'GarageQual',\n",
              "       'GarageCond', 'PavedDrive', 'SaleType', 'SaleCondition'],\n",
              "      dtype='object')"
            ]
          },
          "metadata": {
            "tags": []
          },
          "execution_count": 6
        }
      ]
    },
    {
      "cell_type": "code",
      "metadata": {
        "id": "8i3G7dw-UlIg",
        "outputId": "2cdd61d5-c7ce-4738-bf83-be5a13d813d4",
        "colab": {
          "base_uri": "https://localhost:8080/",
          "height": 173
        }
      },
      "source": [
        "# Get list of numeric columns\n",
        "numeric_cols = data.select_dtypes(include=np.number).columns\n",
        "numeric_cols"
      ],
      "execution_count": null,
      "outputs": [
        {
          "output_type": "execute_result",
          "data": {
            "text/plain": [
              "Index(['MSSubClass', 'LotFrontage', 'LotArea', 'OverallQual', 'OverallCond',\n",
              "       'YearBuilt', 'YearRemodAdd', 'MasVnrArea', 'BsmtFinSF1', 'BsmtFinSF2',\n",
              "       'BsmtUnfSF', 'TotalBsmtSF', '1stFlrSF', '2ndFlrSF', 'GrLivArea',\n",
              "       'BsmtFullBath', 'BsmtHalfBath', 'FullBath', 'HalfBath', 'BedroomAbvGr',\n",
              "       'KitchenAbvGr', 'TotRmsAbvGrd', 'Fireplaces', 'GarageYrBlt',\n",
              "       'GarageCars', 'GarageArea', 'WoodDeckSF', 'OpenPorchSF',\n",
              "       'EnclosedPorch', 'ScreenPorch'],\n",
              "      dtype='object')"
            ]
          },
          "metadata": {
            "tags": []
          },
          "execution_count": 10
        }
      ]
    },
    {
      "cell_type": "code",
      "metadata": {
        "id": "PjxW9sJ0Tw4k"
      },
      "source": [
        "#Replace NaN with none.\n",
        "none_cols = ['FireplaceQu', 'GarageType','GarageFinish', 'GarageQual', 'GarageCond', 'BsmtQual',\n",
        "             'BsmtCond', 'BsmtExposure', 'BsmtFinType1', 'BsmtFinType2', 'MasVnrType']\n",
        "for col in none_cols:\n",
        "    data[col].replace(np.nan, 'None', inplace=True)"
      ],
      "execution_count": null,
      "outputs": []
    },
    {
      "cell_type": "code",
      "metadata": {
        "id": "SS8Cc8I3UMFb"
      },
      "source": [
        " #Fill missing categorical columns with the mode\n",
        "data[categorical_cols] = data[categorical_cols].fillna(data[categorical_cols].mode().iloc[0])"
      ],
      "execution_count": null,
      "outputs": []
    },
    {
      "cell_type": "code",
      "metadata": {
        "id": "F14BIKhJUV6e"
      },
      "source": [
        " # Handle missing values\n",
        "from sklearn.experimental import enable_iterative_imputer\n",
        "from sklearn.impute import IterativeImputer\n",
        "imputer = IterativeImputer()\n",
        "#Handle numeric missing values\n",
        "data[numeric_cols] = imputer.fit_transform(data[numeric_cols])"
      ],
      "execution_count": null,
      "outputs": []
    },
    {
      "cell_type": "code",
      "metadata": {
        "id": "1nnZtgUlUoT2"
      },
      "source": [
        " # Label encode categorical features\n",
        "from sklearn.preprocessing import LabelEncoder\n",
        "encoder = LabelEncoder()\n",
        "for col in categorical_cols:\n",
        "    data[col] = encoder.fit_transform(data[col])"
      ],
      "execution_count": null,
      "outputs": []
    },
    {
      "cell_type": "code",
      "metadata": {
        "id": "1MMu-uBhUvK_",
        "outputId": "94b968b2-ab07-480b-814c-50a88fbd21b2",
        "colab": {
          "base_uri": "https://localhost:8080/",
          "height": 205
        }
      },
      "source": [
        "# Handling skewed features using log transformation\n",
        "skew_features = np.abs(data[numeric_cols].apply(lambda x: skew(x)).sort_values(ascending=False))\n",
        "skew_features[:10] # Displaying top ten skewed features"
      ],
      "execution_count": null,
      "outputs": [
        {
          "output_type": "execute_result",
          "data": {
            "text/plain": [
              "LotArea          12.822431\n",
              "KitchenAbvGr      4.302254\n",
              "BsmtFinSF2        4.146034\n",
              "EnclosedPorch     4.003891\n",
              "ScreenPorch       3.946694\n",
              "BsmtHalfBath      3.931148\n",
              "MasVnrArea        2.602112\n",
              "OpenPorchSF       2.535114\n",
              "WoodDeckSF        1.842433\n",
              "LotFrontage       1.563371\n",
              "dtype: float64"
            ]
          },
          "metadata": {
            "tags": []
          },
          "execution_count": 13
        }
      ]
    },
    {
      "cell_type": "code",
      "metadata": {
        "id": "F3AJaANBU0ao"
      },
      "source": [
        "# Filtering skewed features.\n",
        "high_skew = skew_features[skew_features > 1]\n",
        "# Taking indexes of high skew.\n",
        "skew_index = high_skew.index\n",
        "#Applying log transformation\n",
        "for i in skew_index:\n",
        "    data[i] = np.log1p(data[i])"
      ],
      "execution_count": null,
      "outputs": []
    },
    {
      "cell_type": "code",
      "metadata": {
        "id": "Y9TT5_tnU_Tc"
      },
      "source": [
        " # Creating new features  based on previous observations...\n",
        "data['TotalSF'] = data['BsmtFinSF1'] + data['BsmtFinSF2'] + data['1stFlrSF'] + data['2ndFlrSF']\n",
        "data['TotalBathrooms'] = data['FullBath'] + (0.5*data['HalfBath']) + data['BsmtFullBath'] + (0.5*data['BsmtHalfBath'])\n",
        "data['TotalPorchSF'] = data['OpenPorchSF'] +  data['EnclosedPorch'] + data['ScreenPorch'] + data['WoodDeckSF']\n",
        "data['YearBlRm'] = data['YearBuilt'] + data['YearRemodAdd']\n",
        " \n",
        "# Merging quality and conditions.\n",
        "data['TotalExtQual'] = data['ExterQual'] + data['ExterCond']\n",
        "data['TotalBsmQual'] = data['BsmtQual'] + data['BsmtCond'] + data['BsmtFinType1'] + data['BsmtFinType2']\n",
        "data['TotalGrgQual'] = data['GarageQual'] + data['GarageCond']\n",
        "data['TotalQual'] = data['OverallQual'] + data['TotalExtQual'] + data['TotalBsmQual'] + data['TotalGrgQual'] + data['KitchenQual'] + data['HeatingQC']\n",
        " \n",
        "# Creating new features by using new quality indicators.\n",
        "data['QualGr'] = data['TotalQual'] * data['GrLivArea']\n",
        "data['QualBsm'] = data['TotalBsmQual'] * (data['BsmtFinSF1'] + data['BsmtFinSF2'])\n",
        "data['QualPorch'] = data['TotalExtQual'] * data['TotalPorchSF']\n",
        "data['QualExt'] = data['TotalExtQual'] * data['MasVnrArea']\n",
        "data['QualGrg'] = data['TotalGrgQual'] * data['GarageArea']\n",
        "data['QlLivArea'] = (data['GrLivArea']  * data['TotalQual'])\n",
        "data['QualSFNg'] = data['QualGr'] * data['Neighborhood']\n",
        " \n",
        "#create binary columns\n",
        "binary_column = ['2ndFlrSF', 'QualGrg', 'Fireplaces', 'QualBsm', 'QualPorch','TotalPorchSF']\n",
        "for col in binary_column:\n",
        "    col_name = 'has_'+ col\n",
        "    data[col_name] = data[col].apply(lambda x: 1 if x > 0 else 0)"
      ],
      "execution_count": null,
      "outputs": []
    },
    {
      "cell_type": "code",
      "metadata": {
        "id": "LS5e1QamVPwN"
      },
      "source": [
        "X = data.iloc[:1460,:]\n",
        "X_test = data.iloc[1460:, :]"
      ],
      "execution_count": null,
      "outputs": []
    },
    {
      "cell_type": "code",
      "metadata": {
        "id": "d7N9wDLyVaD6"
      },
      "source": [
        " # Scale the dataset\n",
        "from sklearn.preprocessing import RobustScaler\n",
        " \n",
        "cols = X.select_dtypes(np.number).columns\n",
        "scaler = RobustScaler().fit(X[cols])\n",
        "X[cols] = scaler.transform(X[cols])\n",
        "X_test[cols] = scaler.transform(X_test[cols])"
      ],
      "execution_count": null,
      "outputs": []
    },
    {
      "cell_type": "code",
      "metadata": {
        "id": "cq70fh_TVpLS"
      },
      "source": [
        "from sklearn.model_selection import train_test_split\n",
        "X_train, X_val, y_train, y_val = train_test_split(X, y, test_size=.3, random_state=42)"
      ],
      "execution_count": null,
      "outputs": []
    },
    {
      "cell_type": "code",
      "metadata": {
        "id": "qrpwmF5YWGGX"
      },
      "source": [
        "from xgboost import XGBRegressor\n",
        "xg = XGBRegressor(random_state=42, n_jobs=-1)"
      ],
      "execution_count": null,
      "outputs": []
    },
    {
      "cell_type": "code",
      "metadata": {
        "id": "6NNMt63VWYOd"
      },
      "source": [
        " from sklearn.metrics import mean_absolute_error"
      ],
      "execution_count": null,
      "outputs": []
    },
    {
      "cell_type": "code",
      "metadata": {
        "id": "LYttjxV7WggS"
      },
      "source": [
        "from catboost import CatBoostRegressor\n",
        "cat = CatBoostRegressor(random_state=42, thread_count=-1, verbose=False)"
      ],
      "execution_count": null,
      "outputs": []
    },
    {
      "cell_type": "code",
      "metadata": {
        "id": "bLFWxhPzXX_4"
      },
      "source": [
        "from lightgbm import LGBMRegressor\n",
        "lg = LGBMRegressor(random_state=42, n_jobs=-1)"
      ],
      "execution_count": null,
      "outputs": []
    },
    {
      "cell_type": "code",
      "metadata": {
        "id": "xWjWWxJQXqMq",
        "outputId": "2e28120d-ab65-4e93-ac2e-6c6b675f790e",
        "colab": {
          "base_uri": "https://localhost:8080/",
          "height": 156
        }
      },
      "source": [
        "# checking the performance of the models \n",
        "cat.fit(X_train, y_train)\n",
        "print(\"Model name: CatBoostRegressor\") \n",
        "print(\"Model score:\", mean_absolute_error(y_val, cat.predict(X_val)))\n",
        " \n",
        "xg.fit(X_train, y_train)\n",
        "print(\"Model name: XGBoostRegressor\") \n",
        "print(\"Model score:\", mean_absolute_error(y_val, xg.predict(X_val)))\n",
        " \n",
        "lg.fit(X_train, y_train)\n",
        "print(\"Model name: LGBMRegressor\") \n",
        "print(\"Model score:\", mean_absolute_error(y_val, lg.predict(X_val)))"
      ],
      "execution_count": null,
      "outputs": [
        {
          "output_type": "stream",
          "text": [
            "Model name: CatBoostRegressor\n",
            "Model score: 14888.545379453079\n",
            "[18:32:33] WARNING: /workspace/src/objective/regression_obj.cu:152: reg:linear is now deprecated in favor of reg:squarederror.\n",
            "Model name: XGBoostRegressor\n",
            "Model score: 16401.73058468893\n",
            "Model name: LGBMRegressor\n",
            "Model score: 16192.512272685179\n"
          ],
          "name": "stdout"
        }
      ]
    },
    {
      "cell_type": "code",
      "metadata": {
        "id": "utNAiL1Fawlu"
      },
      "source": [
        "# Import Ensemble models present in the scikit library\n",
        " \n",
        "from sklearn.ensemble import VotingRegressor, StackingRegressor"
      ],
      "execution_count": null,
      "outputs": []
    },
    {
      "cell_type": "markdown",
      "metadata": {
        "id": "TkHftss6shvZ"
      },
      "source": [
        " \n",
        "    STACKINGREGRESSOR \n",
        " \n",
        " Stack of estimators with a final regressor.\n",
        " \n",
        "Stacked generalization consists in stacking the output of individual estimator and use a regressor to compute the final prediction. Stacking allows to use the strength of each individual estimator by using their output as input of a final estimator.\n",
        " \n",
        "Note that estimators_ are fitted on the full X while final_estimator_ is trained using cross-validated predictions of the base estimators using cross_val_predict.\n",
        " \n",
        "    VOTINGREGRESSOR \n",
        "A voting regressor is an ensemble meta-estimator that fits several base regressors, each on the whole dataset. Then it averages the individual predictions to form a final prediction."
      ]
    },
    {
      "cell_type": "code",
      "metadata": {
        "id": "yw3WIGKabJIY"
      },
      "source": [
        " \n",
        "# instantiating a VotingRegressor and a StackingRegressor \n",
        " \n",
        "vc = VotingRegressor(estimators=[(\"CatBoost\", CatBoostRegressor(verbose=False, random_state=42)), (\"lgbm\", LGBMRegressor(n_jobs=-1, random_state=42)), (\"Xgboost\", XGBRegressor(random_state=42, n_jobs=-1))]) \n",
        " \n",
        "stack = StackingRegressor(estimators=[(\"CatBoost\", CatBoostRegressor(verbose=False, random_state=42)), (\"lgbm\", LGBMRegressor(n_jobs=-1, random_state=42)), (\"Xgboost\", XGBRegressor(random_state=42, n_jobs=-1))], final_estimator=cat, passthrough=True, cv=5)"
      ],
      "execution_count": null,
      "outputs": []
    },
    {
      "cell_type": "code",
      "metadata": {
        "id": "ElF6RvhZYy8s",
        "outputId": "d5af1d01-4950-4b89-bd0e-6ec9ba2648f7",
        "colab": {
          "base_uri": "https://localhost:8080/",
          "height": 225
        }
      },
      "source": [
        "\n",
        "Checking their performances\n",
        "\n",
        "vc.fit(X_train, y_train)\n",
        "print(\"Model name: VotingRegressor\") \n",
        "print(\"Model score:\", mean_absolute_error(y_val, vc.predict(X_val)))\n",
        " \n",
        "stack.fit(X_train, y_train)\n",
        "print(\"Model name: StackingRegressor\") \n",
        "print(\"Model score:\", mean_absolute_error(y_val, stack.predict(X_val)))"
      ],
      "execution_count": null,
      "outputs": [
        {
          "output_type": "stream",
          "text": [
            "[18:40:45] WARNING: /workspace/src/objective/regression_obj.cu:152: reg:linear is now deprecated in favor of reg:squarederror.\n",
            "Model name: VotingRegressor\n",
            "Model score: 15091.104341056787\n",
            "[18:40:55] WARNING: /workspace/src/objective/regression_obj.cu:152: reg:linear is now deprecated in favor of reg:squarederror.\n",
            "[18:41:38] WARNING: /workspace/src/objective/regression_obj.cu:152: reg:linear is now deprecated in favor of reg:squarederror.\n",
            "[18:41:38] WARNING: /workspace/src/objective/regression_obj.cu:152: reg:linear is now deprecated in favor of reg:squarederror.\n",
            "[18:41:38] WARNING: /workspace/src/objective/regression_obj.cu:152: reg:linear is now deprecated in favor of reg:squarederror.\n",
            "[18:41:39] WARNING: /workspace/src/objective/regression_obj.cu:152: reg:linear is now deprecated in favor of reg:squarederror.\n",
            "[18:41:39] WARNING: /workspace/src/objective/regression_obj.cu:152: reg:linear is now deprecated in favor of reg:squarederror.\n",
            "Model name: StackingRegressor\n",
            "Model score: 15183.614122451601\n"
          ],
          "name": "stdout"
        }
      ]
    },
    {
      "cell_type": "code",
      "metadata": {
        "id": "JAK1ahybeH59"
      },
      "source": [
        "# catboost prediction on the test data\n",
        "cat_pred = cat.predict(X_test) \n",
        " pd.DataFrame(\n",
        "    {\"Id\": test[\"Id\"],\n",
        "     \"SalePrice\": cat_pred}\n",
        ").to_csv(\"cat-submission9999.csv\", index = False)"
      ],
      "execution_count": null,
      "outputs": []
    },
    {
      "cell_type": "code",
      "metadata": {
        "id": "4VDpfcF0htCk"
      },
      "source": [
        "# lgbm prediction on the test data\n",
        "lg_pred = lg.predict(X_test) \n",
        " pd.DataFrame(\n",
        "    {\"Id\": test[\"Id\"],\n",
        "     \"SalePrice\": lg_pred}\n",
        ").to_csv(\"lg-submission9999.csv\", index = False)"
      ],
      "execution_count": null,
      "outputs": []
    },
    {
      "cell_type": "code",
      "metadata": {
        "id": "UUdwWkrRcl_A"
      },
      "source": [
        "# VotingRegressor on the test data\n",
        "vc_pred = vc.predict(X_test) \n",
        " pd.DataFrame(\n",
        "    {\"Id\": test[\"Id\"],\n",
        "     \"SalePrice\": vc_pred}\n",
        ").to_csv(\"vc-submission9999.csv\", index = False)"
      ],
      "execution_count": null,
      "outputs": []
    },
    {
      "cell_type": "code",
      "metadata": {
        "id": "t12XjmwQiCra"
      },
      "source": [
        "# StackingRegressor on the test data \n",
        "stack_pred = stack.predict(X_test) \n",
        " pd.DataFrame(\n",
        "    {\"Id\": test[\"Id\"],\n",
        "     \"SalePrice\": stack_pred}\n",
        ").to_csv(\"stack-submission9999.csv\", index = False)"
      ],
      "execution_count": null,
      "outputs": []
    },
    {
      "cell_type": "code",
      "metadata": {
        "id": "rsqRNMRXkpmG"
      },
      "source": [
        "\n",
        "# performing a weighted Ensemble on the VotingRegressor and StackingRegressor predictions \n",
        "vc_stack = vc_pred*0.7 + stack_pred*0.3\n",
        " \n",
        "pd.DataFrame(\n",
        "    {\"Id\": test[\"Id\"],\n",
        "     \"SalePrice\": vc_stack}\n",
        ").to_csv(\"vc_stack-submission9999.csv\", index = False)"
      ],
      "execution_count": null,
      "outputs": []
    },
    {
      "cell_type": "code",
      "metadata": {
        "id": "lajoIQj1mYod"
      },
      "source": [
        "\n",
        "# performing a weighted average on the predictions of the VotingRegressor and CatBoost \n",
        "\n",
        "vc_cat = cat_pred*0.6 + vc_pred*0.4\n",
        " \n",
        "pd.DataFrame(\n",
        "    {\"Id\": test[\"Id\"],\n",
        "     \"SalePrice\": vc_cat}\n",
        ").to_csv(\"vc_cat-submission9999.csv\", index = False)"
      ],
      "execution_count": null,
      "outputs": []
    },
    {
      "cell_type": "code",
      "metadata": {
        "id": "bBfvsxehnP13"
      },
      "source": [
        " \n",
        "# An average Ensemble on the predictions for CatBoost and VotingRegressor \n",
        "vc_cat1 = cat_pred*0.5 + vc_pred*0.5\n",
        " \n",
        "pd.DataFrame(\n",
        "    {\"Id\": test[\"Id\"],\n",
        "     \"SalePrice\": vc_cat}\n",
        ").to_csv(\"vc_cat-submission999912.csv\", index = False)"
      ],
      "execution_count": null,
      "outputs": []
    },
    {
      "cell_type": "code",
      "metadata": {
        "id": "px-RK4Hwn5iW"
      },
      "source": [
        "\n",
        "# a final weighted average on the weighted and average Ensembles we have made before\n",
        "final = vc_cat*0.7 + vc_cat1*0.3\n",
        " \n",
        "pd.DataFrame(\n",
        "    {\"Id\": test[\"Id\"],\n",
        "     \"SalePrice\": vc_cat}\n",
        ").to_csv(\"vc_cat+vc_cat1-submission999912.csv\", index = False)"
      ],
      "execution_count": null,
      "outputs": []
    }
  ]
}