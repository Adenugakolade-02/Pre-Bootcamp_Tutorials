{
 "cells": [
  {
   "cell_type": "markdown",
   "metadata": {
    "colab_type": "text",
    "id": "xBRZ6rETgadD"
   },
   "source": [
    "## **Introduction**\n",
    "#### In this notebook, we will be discussing the different ways of identifying and handling missing values in a dataset."
   ]
  },
  {
   "cell_type": "markdown",
   "metadata": {
    "colab_type": "text",
    "id": "NDZEH0M4hZmV"
   },
   "source": [
    "## **What are missing values and why do they matter?**\n",
    "\n",
    "##### Missing values as the names implies, are simply values that aren't defined or cannot be found in the dataset, denoted by 'NaN', 'nan' which means 'Not a Number', or null\n",
    "#### Eg:\n",
    "\n",
    "![missing2.png](data:image/png;base64,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)\n",
    "##### As we can see, Aleena's age is 'nan which is quite impossible, because, all humans have an age\n",
    "\n",
    "\n",
    "##### Missing values can be caused by a lot of factors, including but not limited to;\n",
    "##### - Human error when computing the data\n",
    "##### - Respondent refusing to disclose certain information eg Age, Source of income, Salary etc..\n",
    "##### - Data corruption\n",
    "\n",
    "\n",
    "##### Handling missing values is an important part of data preprocessing, because, a lot of machine learning algorithms don't know how to handle them and most of the time an error of this nature will be displayed; **ValueError: Input contains NaN, infinity or a value too large for dtype('float64').**\n",
    "\n",
    "##### There are various ways of handling missing values and they can be classified into; \n",
    "##### - Deleting\n",
    "##### - Imputing"
   ]
  },
  {
   "cell_type": "markdown",
   "metadata": {},
   "source": [
    "# Identifying Missing values "
   ]
  },
  {
   "cell_type": "code",
   "execution_count": 144,
   "metadata": {},
   "outputs": [
    {
     "data": {
      "text/html": [
       "<div>\n",
       "<style scoped>\n",
       "    .dataframe tbody tr th:only-of-type {\n",
       "        vertical-align: middle;\n",
       "    }\n",
       "\n",
       "    .dataframe tbody tr th {\n",
       "        vertical-align: top;\n",
       "    }\n",
       "\n",
       "    .dataframe thead th {\n",
       "        text-align: right;\n",
       "    }\n",
       "</style>\n",
       "<table border=\"1\" class=\"dataframe\">\n",
       "  <thead>\n",
       "    <tr style=\"text-align: right;\">\n",
       "      <th></th>\n",
       "      <th>Id</th>\n",
       "      <th>MSSubClass</th>\n",
       "      <th>MSZoning</th>\n",
       "      <th>LotFrontage</th>\n",
       "      <th>LotArea</th>\n",
       "      <th>Street</th>\n",
       "      <th>Alley</th>\n",
       "      <th>LotShape</th>\n",
       "      <th>LandContour</th>\n",
       "      <th>Utilities</th>\n",
       "      <th>...</th>\n",
       "      <th>PoolArea</th>\n",
       "      <th>PoolQC</th>\n",
       "      <th>Fence</th>\n",
       "      <th>MiscFeature</th>\n",
       "      <th>MiscVal</th>\n",
       "      <th>MoSold</th>\n",
       "      <th>YrSold</th>\n",
       "      <th>SaleType</th>\n",
       "      <th>SaleCondition</th>\n",
       "      <th>SalePrice</th>\n",
       "    </tr>\n",
       "  </thead>\n",
       "  <tbody>\n",
       "    <tr>\n",
       "      <th>0</th>\n",
       "      <td>1</td>\n",
       "      <td>60</td>\n",
       "      <td>RL</td>\n",
       "      <td>65.0</td>\n",
       "      <td>8450</td>\n",
       "      <td>Pave</td>\n",
       "      <td>NaN</td>\n",
       "      <td>Reg</td>\n",
       "      <td>Lvl</td>\n",
       "      <td>AllPub</td>\n",
       "      <td>...</td>\n",
       "      <td>0</td>\n",
       "      <td>NaN</td>\n",
       "      <td>NaN</td>\n",
       "      <td>NaN</td>\n",
       "      <td>0</td>\n",
       "      <td>2</td>\n",
       "      <td>2008</td>\n",
       "      <td>WD</td>\n",
       "      <td>Normal</td>\n",
       "      <td>208500</td>\n",
       "    </tr>\n",
       "    <tr>\n",
       "      <th>1</th>\n",
       "      <td>2</td>\n",
       "      <td>20</td>\n",
       "      <td>RL</td>\n",
       "      <td>80.0</td>\n",
       "      <td>9600</td>\n",
       "      <td>Pave</td>\n",
       "      <td>NaN</td>\n",
       "      <td>Reg</td>\n",
       "      <td>Lvl</td>\n",
       "      <td>AllPub</td>\n",
       "      <td>...</td>\n",
       "      <td>0</td>\n",
       "      <td>NaN</td>\n",
       "      <td>NaN</td>\n",
       "      <td>NaN</td>\n",
       "      <td>0</td>\n",
       "      <td>5</td>\n",
       "      <td>2007</td>\n",
       "      <td>WD</td>\n",
       "      <td>Normal</td>\n",
       "      <td>181500</td>\n",
       "    </tr>\n",
       "    <tr>\n",
       "      <th>2</th>\n",
       "      <td>3</td>\n",
       "      <td>60</td>\n",
       "      <td>RL</td>\n",
       "      <td>68.0</td>\n",
       "      <td>11250</td>\n",
       "      <td>Pave</td>\n",
       "      <td>NaN</td>\n",
       "      <td>IR1</td>\n",
       "      <td>Lvl</td>\n",
       "      <td>AllPub</td>\n",
       "      <td>...</td>\n",
       "      <td>0</td>\n",
       "      <td>NaN</td>\n",
       "      <td>NaN</td>\n",
       "      <td>NaN</td>\n",
       "      <td>0</td>\n",
       "      <td>9</td>\n",
       "      <td>2008</td>\n",
       "      <td>WD</td>\n",
       "      <td>Normal</td>\n",
       "      <td>223500</td>\n",
       "    </tr>\n",
       "    <tr>\n",
       "      <th>3</th>\n",
       "      <td>4</td>\n",
       "      <td>70</td>\n",
       "      <td>RL</td>\n",
       "      <td>60.0</td>\n",
       "      <td>9550</td>\n",
       "      <td>Pave</td>\n",
       "      <td>NaN</td>\n",
       "      <td>IR1</td>\n",
       "      <td>Lvl</td>\n",
       "      <td>AllPub</td>\n",
       "      <td>...</td>\n",
       "      <td>0</td>\n",
       "      <td>NaN</td>\n",
       "      <td>NaN</td>\n",
       "      <td>NaN</td>\n",
       "      <td>0</td>\n",
       "      <td>2</td>\n",
       "      <td>2006</td>\n",
       "      <td>WD</td>\n",
       "      <td>Abnorml</td>\n",
       "      <td>140000</td>\n",
       "    </tr>\n",
       "    <tr>\n",
       "      <th>4</th>\n",
       "      <td>5</td>\n",
       "      <td>60</td>\n",
       "      <td>RL</td>\n",
       "      <td>84.0</td>\n",
       "      <td>14260</td>\n",
       "      <td>Pave</td>\n",
       "      <td>NaN</td>\n",
       "      <td>IR1</td>\n",
       "      <td>Lvl</td>\n",
       "      <td>AllPub</td>\n",
       "      <td>...</td>\n",
       "      <td>0</td>\n",
       "      <td>NaN</td>\n",
       "      <td>NaN</td>\n",
       "      <td>NaN</td>\n",
       "      <td>0</td>\n",
       "      <td>12</td>\n",
       "      <td>2008</td>\n",
       "      <td>WD</td>\n",
       "      <td>Normal</td>\n",
       "      <td>250000</td>\n",
       "    </tr>\n",
       "  </tbody>\n",
       "</table>\n",
       "<p>5 rows × 81 columns</p>\n",
       "</div>"
      ],
      "text/plain": [
       "   Id  MSSubClass MSZoning  LotFrontage  LotArea Street Alley LotShape  \\\n",
       "0   1          60       RL         65.0     8450   Pave   NaN      Reg   \n",
       "1   2          20       RL         80.0     9600   Pave   NaN      Reg   \n",
       "2   3          60       RL         68.0    11250   Pave   NaN      IR1   \n",
       "3   4          70       RL         60.0     9550   Pave   NaN      IR1   \n",
       "4   5          60       RL         84.0    14260   Pave   NaN      IR1   \n",
       "\n",
       "  LandContour Utilities  ... PoolArea PoolQC Fence MiscFeature MiscVal MoSold  \\\n",
       "0         Lvl    AllPub  ...        0    NaN   NaN         NaN       0      2   \n",
       "1         Lvl    AllPub  ...        0    NaN   NaN         NaN       0      5   \n",
       "2         Lvl    AllPub  ...        0    NaN   NaN         NaN       0      9   \n",
       "3         Lvl    AllPub  ...        0    NaN   NaN         NaN       0      2   \n",
       "4         Lvl    AllPub  ...        0    NaN   NaN         NaN       0     12   \n",
       "\n",
       "  YrSold  SaleType  SaleCondition  SalePrice  \n",
       "0   2008        WD         Normal     208500  \n",
       "1   2007        WD         Normal     181500  \n",
       "2   2008        WD         Normal     223500  \n",
       "3   2006        WD        Abnorml     140000  \n",
       "4   2008        WD         Normal     250000  \n",
       "\n",
       "[5 rows x 81 columns]"
      ]
     },
     "execution_count": 144,
     "metadata": {},
     "output_type": "execute_result"
    }
   ],
   "source": [
    "import pandas as pd\n",
    "import sklearn\n",
    "import numpy as np\n",
    "\n",
    "data = pd.read_csv('train.csv')\n",
    "data.head(5)"
   ]
  },
  {
   "cell_type": "markdown",
   "metadata": {},
   "source": [
    "##### We use 'isnull()' or 'isna()' to check if there are missing values in a dataset.\n",
    "##### This returns; \n",
    "##### - 'True' if a missing value is present and, \n",
    "##### - False if there is no missing value"
   ]
  },
  {
   "cell_type": "code",
   "execution_count": 145,
   "metadata": {},
   "outputs": [
    {
     "data": {
      "text/html": [
       "<div>\n",
       "<style scoped>\n",
       "    .dataframe tbody tr th:only-of-type {\n",
       "        vertical-align: middle;\n",
       "    }\n",
       "\n",
       "    .dataframe tbody tr th {\n",
       "        vertical-align: top;\n",
       "    }\n",
       "\n",
       "    .dataframe thead th {\n",
       "        text-align: right;\n",
       "    }\n",
       "</style>\n",
       "<table border=\"1\" class=\"dataframe\">\n",
       "  <thead>\n",
       "    <tr style=\"text-align: right;\">\n",
       "      <th></th>\n",
       "      <th>Id</th>\n",
       "      <th>MSSubClass</th>\n",
       "      <th>MSZoning</th>\n",
       "      <th>LotFrontage</th>\n",
       "      <th>LotArea</th>\n",
       "      <th>Street</th>\n",
       "      <th>Alley</th>\n",
       "      <th>LotShape</th>\n",
       "      <th>LandContour</th>\n",
       "      <th>Utilities</th>\n",
       "      <th>...</th>\n",
       "      <th>PoolArea</th>\n",
       "      <th>PoolQC</th>\n",
       "      <th>Fence</th>\n",
       "      <th>MiscFeature</th>\n",
       "      <th>MiscVal</th>\n",
       "      <th>MoSold</th>\n",
       "      <th>YrSold</th>\n",
       "      <th>SaleType</th>\n",
       "      <th>SaleCondition</th>\n",
       "      <th>SalePrice</th>\n",
       "    </tr>\n",
       "  </thead>\n",
       "  <tbody>\n",
       "    <tr>\n",
       "      <th>0</th>\n",
       "      <td>False</td>\n",
       "      <td>False</td>\n",
       "      <td>False</td>\n",
       "      <td>False</td>\n",
       "      <td>False</td>\n",
       "      <td>False</td>\n",
       "      <td>True</td>\n",
       "      <td>False</td>\n",
       "      <td>False</td>\n",
       "      <td>False</td>\n",
       "      <td>...</td>\n",
       "      <td>False</td>\n",
       "      <td>True</td>\n",
       "      <td>True</td>\n",
       "      <td>True</td>\n",
       "      <td>False</td>\n",
       "      <td>False</td>\n",
       "      <td>False</td>\n",
       "      <td>False</td>\n",
       "      <td>False</td>\n",
       "      <td>False</td>\n",
       "    </tr>\n",
       "    <tr>\n",
       "      <th>1</th>\n",
       "      <td>False</td>\n",
       "      <td>False</td>\n",
       "      <td>False</td>\n",
       "      <td>False</td>\n",
       "      <td>False</td>\n",
       "      <td>False</td>\n",
       "      <td>True</td>\n",
       "      <td>False</td>\n",
       "      <td>False</td>\n",
       "      <td>False</td>\n",
       "      <td>...</td>\n",
       "      <td>False</td>\n",
       "      <td>True</td>\n",
       "      <td>True</td>\n",
       "      <td>True</td>\n",
       "      <td>False</td>\n",
       "      <td>False</td>\n",
       "      <td>False</td>\n",
       "      <td>False</td>\n",
       "      <td>False</td>\n",
       "      <td>False</td>\n",
       "    </tr>\n",
       "    <tr>\n",
       "      <th>2</th>\n",
       "      <td>False</td>\n",
       "      <td>False</td>\n",
       "      <td>False</td>\n",
       "      <td>False</td>\n",
       "      <td>False</td>\n",
       "      <td>False</td>\n",
       "      <td>True</td>\n",
       "      <td>False</td>\n",
       "      <td>False</td>\n",
       "      <td>False</td>\n",
       "      <td>...</td>\n",
       "      <td>False</td>\n",
       "      <td>True</td>\n",
       "      <td>True</td>\n",
       "      <td>True</td>\n",
       "      <td>False</td>\n",
       "      <td>False</td>\n",
       "      <td>False</td>\n",
       "      <td>False</td>\n",
       "      <td>False</td>\n",
       "      <td>False</td>\n",
       "    </tr>\n",
       "  </tbody>\n",
       "</table>\n",
       "<p>3 rows × 81 columns</p>\n",
       "</div>"
      ],
      "text/plain": [
       "      Id  MSSubClass  MSZoning  LotFrontage  LotArea  Street  Alley  LotShape  \\\n",
       "0  False       False     False        False    False   False   True     False   \n",
       "1  False       False     False        False    False   False   True     False   \n",
       "2  False       False     False        False    False   False   True     False   \n",
       "\n",
       "   LandContour  Utilities  ...  PoolArea  PoolQC  Fence  MiscFeature  MiscVal  \\\n",
       "0        False      False  ...     False    True   True         True    False   \n",
       "1        False      False  ...     False    True   True         True    False   \n",
       "2        False      False  ...     False    True   True         True    False   \n",
       "\n",
       "   MoSold  YrSold  SaleType  SaleCondition  SalePrice  \n",
       "0   False   False     False          False      False  \n",
       "1   False   False     False          False      False  \n",
       "2   False   False     False          False      False  \n",
       "\n",
       "[3 rows x 81 columns]"
      ]
     },
     "execution_count": 145,
     "metadata": {},
     "output_type": "execute_result"
    }
   ],
   "source": [
    "# Checks if there are null values present in the entire dataset\n",
    "data.isnull().head(3)"
   ]
  },
  {
   "cell_type": "markdown",
   "metadata": {},
   "source": [
    "##### We use data[column].isnull().any() to check if there are missing values in a specific column.\n",
    "##### This simply checks through that particular column and returns 'True' if there is any missing value, otherwise it returns 'False'"
   ]
  },
  {
   "cell_type": "code",
   "execution_count": 146,
   "metadata": {},
   "outputs": [
    {
     "data": {
      "text/plain": [
       "False"
      ]
     },
     "execution_count": 146,
     "metadata": {},
     "output_type": "execute_result"
    }
   ],
   "source": [
    "data['LotArea'].isnull().any()\n",
    "# The column LotArea doesn't have any missing value"
   ]
  },
  {
   "cell_type": "markdown",
   "metadata": {},
   "source": [
    "\n"
   ]
  },
  {
   "cell_type": "markdown",
   "metadata": {},
   "source": [
    "# Deleting / Dropping\n",
    "##### In this approach, we will be dropping either the columns with missing values.\n",
    "\n",
    "##### This is one of the least advisiable methods,because, it causes the model to lose a lot of vital information.\n",
    "##### A good example is the 'Electrical' feature, it has just one missing value, therefore deleting it can make the model lose some information.\n",
    "##### On the otherhand, a feature like 'MiscFeature' which has 1,406 missing values would most likely be better off dropped, because the model will not learn anything useful from the feature\n",
    "##### It is better to delete any feature that has above 30% missing value"
   ]
  },
  {
   "cell_type": "markdown",
   "metadata": {},
   "source": [
    "#### We will be dropping the categorical variables since it is outside the scope if this class"
   ]
  },
  {
   "cell_type": "code",
   "execution_count": 147,
   "metadata": {},
   "outputs": [],
   "source": [
    "# To get a list of Numerical and Categorical Features\n",
    "numerical_features = [col for col in data.columns if data[col].dtypes != object]\n",
    "categorical_features = [col for col in data.columns if data[col].dtypes == object]\n",
    "\n",
    "data.drop(categorical_features, inplace=True, axis=1)"
   ]
  },
  {
   "cell_type": "code",
   "execution_count": null,
   "metadata": {},
   "outputs": [],
   "source": []
  },
  {
   "cell_type": "markdown",
   "metadata": {},
   "source": [
    "### Let's see the amount of missing values in each columns in the dataset"
   ]
  },
  {
   "cell_type": "code",
   "execution_count": 148,
   "metadata": {},
   "outputs": [
    {
     "data": {
      "text/plain": [
       "Id                 0\n",
       "MSSubClass         0\n",
       "LotFrontage      259\n",
       "LotArea            0\n",
       "OverallQual        0\n",
       "OverallCond        0\n",
       "YearBuilt          0\n",
       "YearRemodAdd       0\n",
       "MasVnrArea         8\n",
       "BsmtFinSF1         0\n",
       "BsmtFinSF2         0\n",
       "BsmtUnfSF          0\n",
       "TotalBsmtSF        0\n",
       "1stFlrSF           0\n",
       "2ndFlrSF           0\n",
       "LowQualFinSF       0\n",
       "GrLivArea          0\n",
       "BsmtFullBath       0\n",
       "BsmtHalfBath       0\n",
       "FullBath           0\n",
       "HalfBath           0\n",
       "BedroomAbvGr       0\n",
       "KitchenAbvGr       0\n",
       "TotRmsAbvGrd       0\n",
       "Fireplaces         0\n",
       "GarageYrBlt       81\n",
       "GarageCars         0\n",
       "GarageArea         0\n",
       "WoodDeckSF         0\n",
       "OpenPorchSF        0\n",
       "EnclosedPorch      0\n",
       "3SsnPorch          0\n",
       "ScreenPorch        0\n",
       "PoolArea           0\n",
       "MiscVal            0\n",
       "MoSold             0\n",
       "YrSold             0\n",
       "SalePrice          0\n",
       "dtype: int64"
      ]
     },
     "execution_count": 148,
     "metadata": {},
     "output_type": "execute_result"
    }
   ],
   "source": [
    "data.isnull().sum()"
   ]
  },
  {
   "cell_type": "code",
   "execution_count": 149,
   "metadata": {},
   "outputs": [
    {
     "name": "stdout",
     "output_type": "stream",
     "text": [
      "LotFrontage: 17.74%\n",
      "MasVnrArea: 0.55%\n",
      "GarageYrBlt: 5.55%\n"
     ]
    }
   ],
   "source": [
    "for col in data.columns:\n",
    "    if data[col].isnull().any():\n",
    "        percent_missing = data[col].isnull().sum() /(len(data[col])) *100 # Amount of missing value / Total length of dataset * 100\n",
    "        print(f'{col}: {round(percent_missing, 2)}%')"
   ]
  },
  {
   "cell_type": "markdown",
   "metadata": {},
   "source": [
    "#### Let us get the list of numerical features that has missing values\n"
   ]
  },
  {
   "cell_type": "code",
   "execution_count": 150,
   "metadata": {},
   "outputs": [
    {
     "data": {
      "text/plain": [
       "['LotFrontage', 'MasVnrArea', 'GarageYrBlt']"
      ]
     },
     "execution_count": 150,
     "metadata": {},
     "output_type": "execute_result"
    }
   ],
   "source": [
    "features_with_missing = [columns for columns in data.columns if data[columns].isnull().any()]\n",
    "features_with_missing"
   ]
  },
  {
   "cell_type": "code",
   "execution_count": 151,
   "metadata": {},
   "outputs": [
    {
     "data": {
      "text/plain": [
       "(1460, 38)"
      ]
     },
     "execution_count": 151,
     "metadata": {},
     "output_type": "execute_result"
    }
   ],
   "source": [
    "data.shape # We have currently have 38 features in our dataset. And the length of our dataset is 1460"
   ]
  },
  {
   "cell_type": "code",
   "execution_count": 152,
   "metadata": {
    "colab": {},
    "colab_type": "code",
    "id": "LGZGYJTJieC3"
   },
   "outputs": [
    {
     "name": "stdout",
     "output_type": "stream",
     "text": [
      "Id               False\n",
      "MSSubClass       False\n",
      "LotArea          False\n",
      "OverallQual      False\n",
      "OverallCond      False\n",
      "YearBuilt        False\n",
      "YearRemodAdd     False\n",
      "BsmtFinSF1       False\n",
      "BsmtFinSF2       False\n",
      "BsmtUnfSF        False\n",
      "TotalBsmtSF      False\n",
      "1stFlrSF         False\n",
      "2ndFlrSF         False\n",
      "LowQualFinSF     False\n",
      "GrLivArea        False\n",
      "BsmtFullBath     False\n",
      "BsmtHalfBath     False\n",
      "FullBath         False\n",
      "HalfBath         False\n",
      "BedroomAbvGr     False\n",
      "KitchenAbvGr     False\n",
      "TotRmsAbvGrd     False\n",
      "Fireplaces       False\n",
      "GarageCars       False\n",
      "GarageArea       False\n",
      "WoodDeckSF       False\n",
      "OpenPorchSF      False\n",
      "EnclosedPorch    False\n",
      "3SsnPorch        False\n",
      "ScreenPorch      False\n",
      "PoolArea         False\n",
      "MiscVal          False\n",
      "MoSold           False\n",
      "YrSold           False\n",
      "SalePrice        False\n",
      "dtype: bool\n"
     ]
    },
    {
     "data": {
      "text/html": [
       "<div>\n",
       "<style scoped>\n",
       "    .dataframe tbody tr th:only-of-type {\n",
       "        vertical-align: middle;\n",
       "    }\n",
       "\n",
       "    .dataframe tbody tr th {\n",
       "        vertical-align: top;\n",
       "    }\n",
       "\n",
       "    .dataframe thead th {\n",
       "        text-align: right;\n",
       "    }\n",
       "</style>\n",
       "<table border=\"1\" class=\"dataframe\">\n",
       "  <thead>\n",
       "    <tr style=\"text-align: right;\">\n",
       "      <th></th>\n",
       "      <th>Id</th>\n",
       "      <th>MSSubClass</th>\n",
       "      <th>LotArea</th>\n",
       "      <th>OverallQual</th>\n",
       "      <th>OverallCond</th>\n",
       "      <th>YearBuilt</th>\n",
       "      <th>YearRemodAdd</th>\n",
       "      <th>BsmtFinSF1</th>\n",
       "      <th>BsmtFinSF2</th>\n",
       "      <th>BsmtUnfSF</th>\n",
       "      <th>...</th>\n",
       "      <th>WoodDeckSF</th>\n",
       "      <th>OpenPorchSF</th>\n",
       "      <th>EnclosedPorch</th>\n",
       "      <th>3SsnPorch</th>\n",
       "      <th>ScreenPorch</th>\n",
       "      <th>PoolArea</th>\n",
       "      <th>MiscVal</th>\n",
       "      <th>MoSold</th>\n",
       "      <th>YrSold</th>\n",
       "      <th>SalePrice</th>\n",
       "    </tr>\n",
       "  </thead>\n",
       "  <tbody>\n",
       "    <tr>\n",
       "      <th>0</th>\n",
       "      <td>1</td>\n",
       "      <td>60</td>\n",
       "      <td>8450</td>\n",
       "      <td>7</td>\n",
       "      <td>5</td>\n",
       "      <td>2003</td>\n",
       "      <td>2003</td>\n",
       "      <td>706</td>\n",
       "      <td>0</td>\n",
       "      <td>150</td>\n",
       "      <td>...</td>\n",
       "      <td>0</td>\n",
       "      <td>61</td>\n",
       "      <td>0</td>\n",
       "      <td>0</td>\n",
       "      <td>0</td>\n",
       "      <td>0</td>\n",
       "      <td>0</td>\n",
       "      <td>2</td>\n",
       "      <td>2008</td>\n",
       "      <td>208500</td>\n",
       "    </tr>\n",
       "    <tr>\n",
       "      <th>1</th>\n",
       "      <td>2</td>\n",
       "      <td>20</td>\n",
       "      <td>9600</td>\n",
       "      <td>6</td>\n",
       "      <td>8</td>\n",
       "      <td>1976</td>\n",
       "      <td>1976</td>\n",
       "      <td>978</td>\n",
       "      <td>0</td>\n",
       "      <td>284</td>\n",
       "      <td>...</td>\n",
       "      <td>298</td>\n",
       "      <td>0</td>\n",
       "      <td>0</td>\n",
       "      <td>0</td>\n",
       "      <td>0</td>\n",
       "      <td>0</td>\n",
       "      <td>0</td>\n",
       "      <td>5</td>\n",
       "      <td>2007</td>\n",
       "      <td>181500</td>\n",
       "    </tr>\n",
       "    <tr>\n",
       "      <th>2</th>\n",
       "      <td>3</td>\n",
       "      <td>60</td>\n",
       "      <td>11250</td>\n",
       "      <td>7</td>\n",
       "      <td>5</td>\n",
       "      <td>2001</td>\n",
       "      <td>2002</td>\n",
       "      <td>486</td>\n",
       "      <td>0</td>\n",
       "      <td>434</td>\n",
       "      <td>...</td>\n",
       "      <td>0</td>\n",
       "      <td>42</td>\n",
       "      <td>0</td>\n",
       "      <td>0</td>\n",
       "      <td>0</td>\n",
       "      <td>0</td>\n",
       "      <td>0</td>\n",
       "      <td>9</td>\n",
       "      <td>2008</td>\n",
       "      <td>223500</td>\n",
       "    </tr>\n",
       "  </tbody>\n",
       "</table>\n",
       "<p>3 rows × 35 columns</p>\n",
       "</div>"
      ],
      "text/plain": [
       "   Id  MSSubClass  LotArea  OverallQual  OverallCond  YearBuilt  YearRemodAdd  \\\n",
       "0   1          60     8450            7            5       2003          2003   \n",
       "1   2          20     9600            6            8       1976          1976   \n",
       "2   3          60    11250            7            5       2001          2002   \n",
       "\n",
       "   BsmtFinSF1  BsmtFinSF2  BsmtUnfSF  ...  WoodDeckSF  OpenPorchSF  \\\n",
       "0         706           0        150  ...           0           61   \n",
       "1         978           0        284  ...         298            0   \n",
       "2         486           0        434  ...           0           42   \n",
       "\n",
       "   EnclosedPorch  3SsnPorch  ScreenPorch  PoolArea  MiscVal  MoSold  YrSold  \\\n",
       "0              0          0            0         0        0       2    2008   \n",
       "1              0          0            0         0        0       5    2007   \n",
       "2              0          0            0         0        0       9    2008   \n",
       "\n",
       "   SalePrice  \n",
       "0     208500  \n",
       "1     181500  \n",
       "2     223500  \n",
       "\n",
       "[3 rows x 35 columns]"
      ]
     },
     "execution_count": 152,
     "metadata": {},
     "output_type": "execute_result"
    }
   ],
   "source": [
    "# This simply deletes all columns that contains missing values in the dataset\n",
    "dropped_data = data.drop(features_with_missing, axis=1)\n",
    "\n",
    "print(dropped_data.isna().any())\n",
    "dropped_data.head(3)"
   ]
  },
  {
   "cell_type": "markdown",
   "metadata": {},
   "source": [
    "##### As we can see, after dropping the features with missing values we are now left with 35 feature out of 38, some potentially useful information could have been lost in the process"
   ]
  },
  {
   "cell_type": "markdown",
   "metadata": {
    "colab": {},
    "colab_type": "code",
    "id": "jAh2gBjBieMn"
   },
   "source": [
    "# Imputing / Filling\n",
    "## Filling the missing numerical features\n",
    "<!-- ##### In this approach we will be filling the numerical data with either of the following; 'Mean', 'Median', while the categorical features will be filled with the most occuring value.\n",
    "\n",
    "##### When filling the missing values with mean/median, we will be getting somewhat similar values, therefore it's best to experiment with both to see which one works best with the data -->"
   ]
  },
  {
   "cell_type": "markdown",
   "metadata": {},
   "source": [
    "### Filling with Zero's\n",
    "##### In some cases, we need to fill the missing values with 0's\n",
    "##### For example, a garage feature like 'GarageYrBlt' has 81 missing values which could signify that 81 respondents do not have a garage in their building, so instead of filling with mean or median, it will be more reasonable to fill them with '0'\n",
    "\n",
    "##### Cases like this are very common and can be handled well after proper data analysis"
   ]
  },
  {
   "cell_type": "code",
   "execution_count": 153,
   "metadata": {},
   "outputs": [],
   "source": [
    "Missing_garage_features = ['GarageYrBlt']\n",
    "\n",
    "for val in Missing_garage_features:\n",
    "    data[val] = data[val].fillna(0)"
   ]
  },
  {
   "cell_type": "markdown",
   "metadata": {},
   "source": [
    "### Filling with median/mean\n",
    "\n",
    "##### We do this by filling all missing value in a column by it's mean/median value, because, they properly describe/summerize the column in consideration.\n",
    "##### For example, to fill the missing values in 'LotFrontage' we have to;\n",
    "##### - Get the mean value: **LotFrontage_mean =  data['LotFrontage'].mean()**\n",
    "##### - Fill the missing values with the mean value we got: **data['LotFrontage'].fillna(LotFrontage_mean)**\n",
    "\n",
    "##### Same method can be applied for filling missing values with the median"
   ]
  },
  {
   "cell_type": "code",
   "execution_count": 154,
   "metadata": {},
   "outputs": [
    {
     "name": "stdout",
     "output_type": "stream",
     "text": [
      "Missing values in LotFrontage: 259\n",
      "Missing values in LotFrontage after filing: 0\n"
     ]
    }
   ],
   "source": [
    "print('Missing values in LotFrontage:' ,data['LotFrontage'].isna().sum())\n",
    "\n",
    "LotFrontage_mean =  data['LotFrontage'].mean()\n",
    "data['LotFrontage'] = data['LotFrontage'].fillna(LotFrontage_mean)\n",
    "print('Missing values in LotFrontage after filing:' ,data['LotFrontage'].isna().sum())"
   ]
  },
  {
   "cell_type": "code",
   "execution_count": 155,
   "metadata": {},
   "outputs": [
    {
     "data": {
      "text/plain": [
       "Id               False\n",
       "MSSubClass       False\n",
       "LotFrontage      False\n",
       "LotArea          False\n",
       "OverallQual      False\n",
       "OverallCond      False\n",
       "YearBuilt        False\n",
       "YearRemodAdd     False\n",
       "MasVnrArea       False\n",
       "BsmtFinSF1       False\n",
       "BsmtFinSF2       False\n",
       "BsmtUnfSF        False\n",
       "TotalBsmtSF      False\n",
       "1stFlrSF         False\n",
       "2ndFlrSF         False\n",
       "LowQualFinSF     False\n",
       "GrLivArea        False\n",
       "BsmtFullBath     False\n",
       "BsmtHalfBath     False\n",
       "FullBath         False\n",
       "HalfBath         False\n",
       "BedroomAbvGr     False\n",
       "KitchenAbvGr     False\n",
       "TotRmsAbvGrd     False\n",
       "Fireplaces       False\n",
       "GarageYrBlt      False\n",
       "GarageCars       False\n",
       "GarageArea       False\n",
       "WoodDeckSF       False\n",
       "OpenPorchSF      False\n",
       "EnclosedPorch    False\n",
       "3SsnPorch        False\n",
       "ScreenPorch      False\n",
       "PoolArea         False\n",
       "MiscVal          False\n",
       "MoSold           False\n",
       "YrSold           False\n",
       "SalePrice        False\n",
       "dtype: bool"
      ]
     },
     "execution_count": 155,
     "metadata": {},
     "output_type": "execute_result"
    }
   ],
   "source": [
    "# DOING THE SAME THING WE DID ABOVE, BUT ON A LARGER SCALE\n",
    "\n",
    "# For each feature in a list of Numerical Features;\n",
    "for num_feat in numerical_features:\n",
    "    \n",
    "    # If there are missing values present in a particular feature;\n",
    "    if data[num_feat].isna().any():\n",
    "        \n",
    "        # Fill all missing value with the mean of the feature.\n",
    "        data[num_feat].fillna(data[num_feat].mean(), inplace=True)\n",
    "\n",
    "# Checking if there are any missing numerical features left\n",
    "data[numerical_features].isna().any()"
   ]
  },
  {
   "cell_type": "code",
   "execution_count": 156,
   "metadata": {},
   "outputs": [
    {
     "data": {
      "text/html": [
       "<div>\n",
       "<style scoped>\n",
       "    .dataframe tbody tr th:only-of-type {\n",
       "        vertical-align: middle;\n",
       "    }\n",
       "\n",
       "    .dataframe tbody tr th {\n",
       "        vertical-align: top;\n",
       "    }\n",
       "\n",
       "    .dataframe thead th {\n",
       "        text-align: right;\n",
       "    }\n",
       "</style>\n",
       "<table border=\"1\" class=\"dataframe\">\n",
       "  <thead>\n",
       "    <tr style=\"text-align: right;\">\n",
       "      <th></th>\n",
       "      <th>Id</th>\n",
       "      <th>MSSubClass</th>\n",
       "      <th>LotFrontage</th>\n",
       "      <th>LotArea</th>\n",
       "      <th>OverallQual</th>\n",
       "      <th>OverallCond</th>\n",
       "      <th>YearBuilt</th>\n",
       "      <th>YearRemodAdd</th>\n",
       "      <th>MasVnrArea</th>\n",
       "      <th>BsmtFinSF1</th>\n",
       "      <th>...</th>\n",
       "      <th>WoodDeckSF</th>\n",
       "      <th>OpenPorchSF</th>\n",
       "      <th>EnclosedPorch</th>\n",
       "      <th>3SsnPorch</th>\n",
       "      <th>ScreenPorch</th>\n",
       "      <th>PoolArea</th>\n",
       "      <th>MiscVal</th>\n",
       "      <th>MoSold</th>\n",
       "      <th>YrSold</th>\n",
       "      <th>SalePrice</th>\n",
       "    </tr>\n",
       "  </thead>\n",
       "  <tbody>\n",
       "    <tr>\n",
       "      <th>0</th>\n",
       "      <td>1</td>\n",
       "      <td>60</td>\n",
       "      <td>65.0</td>\n",
       "      <td>8450</td>\n",
       "      <td>7</td>\n",
       "      <td>5</td>\n",
       "      <td>2003</td>\n",
       "      <td>2003</td>\n",
       "      <td>196.0</td>\n",
       "      <td>706</td>\n",
       "      <td>...</td>\n",
       "      <td>0</td>\n",
       "      <td>61</td>\n",
       "      <td>0</td>\n",
       "      <td>0</td>\n",
       "      <td>0</td>\n",
       "      <td>0</td>\n",
       "      <td>0</td>\n",
       "      <td>2</td>\n",
       "      <td>2008</td>\n",
       "      <td>208500</td>\n",
       "    </tr>\n",
       "    <tr>\n",
       "      <th>1</th>\n",
       "      <td>2</td>\n",
       "      <td>20</td>\n",
       "      <td>80.0</td>\n",
       "      <td>9600</td>\n",
       "      <td>6</td>\n",
       "      <td>8</td>\n",
       "      <td>1976</td>\n",
       "      <td>1976</td>\n",
       "      <td>0.0</td>\n",
       "      <td>978</td>\n",
       "      <td>...</td>\n",
       "      <td>298</td>\n",
       "      <td>0</td>\n",
       "      <td>0</td>\n",
       "      <td>0</td>\n",
       "      <td>0</td>\n",
       "      <td>0</td>\n",
       "      <td>0</td>\n",
       "      <td>5</td>\n",
       "      <td>2007</td>\n",
       "      <td>181500</td>\n",
       "    </tr>\n",
       "    <tr>\n",
       "      <th>2</th>\n",
       "      <td>3</td>\n",
       "      <td>60</td>\n",
       "      <td>68.0</td>\n",
       "      <td>11250</td>\n",
       "      <td>7</td>\n",
       "      <td>5</td>\n",
       "      <td>2001</td>\n",
       "      <td>2002</td>\n",
       "      <td>162.0</td>\n",
       "      <td>486</td>\n",
       "      <td>...</td>\n",
       "      <td>0</td>\n",
       "      <td>42</td>\n",
       "      <td>0</td>\n",
       "      <td>0</td>\n",
       "      <td>0</td>\n",
       "      <td>0</td>\n",
       "      <td>0</td>\n",
       "      <td>9</td>\n",
       "      <td>2008</td>\n",
       "      <td>223500</td>\n",
       "    </tr>\n",
       "    <tr>\n",
       "      <th>3</th>\n",
       "      <td>4</td>\n",
       "      <td>70</td>\n",
       "      <td>60.0</td>\n",
       "      <td>9550</td>\n",
       "      <td>7</td>\n",
       "      <td>5</td>\n",
       "      <td>1915</td>\n",
       "      <td>1970</td>\n",
       "      <td>0.0</td>\n",
       "      <td>216</td>\n",
       "      <td>...</td>\n",
       "      <td>0</td>\n",
       "      <td>35</td>\n",
       "      <td>272</td>\n",
       "      <td>0</td>\n",
       "      <td>0</td>\n",
       "      <td>0</td>\n",
       "      <td>0</td>\n",
       "      <td>2</td>\n",
       "      <td>2006</td>\n",
       "      <td>140000</td>\n",
       "    </tr>\n",
       "    <tr>\n",
       "      <th>4</th>\n",
       "      <td>5</td>\n",
       "      <td>60</td>\n",
       "      <td>84.0</td>\n",
       "      <td>14260</td>\n",
       "      <td>8</td>\n",
       "      <td>5</td>\n",
       "      <td>2000</td>\n",
       "      <td>2000</td>\n",
       "      <td>350.0</td>\n",
       "      <td>655</td>\n",
       "      <td>...</td>\n",
       "      <td>192</td>\n",
       "      <td>84</td>\n",
       "      <td>0</td>\n",
       "      <td>0</td>\n",
       "      <td>0</td>\n",
       "      <td>0</td>\n",
       "      <td>0</td>\n",
       "      <td>12</td>\n",
       "      <td>2008</td>\n",
       "      <td>250000</td>\n",
       "    </tr>\n",
       "  </tbody>\n",
       "</table>\n",
       "<p>5 rows × 38 columns</p>\n",
       "</div>"
      ],
      "text/plain": [
       "   Id  MSSubClass  LotFrontage  LotArea  OverallQual  OverallCond  YearBuilt  \\\n",
       "0   1          60         65.0     8450            7            5       2003   \n",
       "1   2          20         80.0     9600            6            8       1976   \n",
       "2   3          60         68.0    11250            7            5       2001   \n",
       "3   4          70         60.0     9550            7            5       1915   \n",
       "4   5          60         84.0    14260            8            5       2000   \n",
       "\n",
       "   YearRemodAdd  MasVnrArea  BsmtFinSF1  ...  WoodDeckSF  OpenPorchSF  \\\n",
       "0          2003       196.0         706  ...           0           61   \n",
       "1          1976         0.0         978  ...         298            0   \n",
       "2          2002       162.0         486  ...           0           42   \n",
       "3          1970         0.0         216  ...           0           35   \n",
       "4          2000       350.0         655  ...         192           84   \n",
       "\n",
       "   EnclosedPorch  3SsnPorch  ScreenPorch  PoolArea  MiscVal  MoSold  YrSold  \\\n",
       "0              0          0            0         0        0       2    2008   \n",
       "1              0          0            0         0        0       5    2007   \n",
       "2              0          0            0         0        0       9    2008   \n",
       "3            272          0            0         0        0       2    2006   \n",
       "4              0          0            0         0        0      12    2008   \n",
       "\n",
       "   SalePrice  \n",
       "0     208500  \n",
       "1     181500  \n",
       "2     223500  \n",
       "3     140000  \n",
       "4     250000  \n",
       "\n",
       "[5 rows x 38 columns]"
      ]
     },
     "execution_count": 156,
     "metadata": {},
     "output_type": "execute_result"
    }
   ],
   "source": [
    "data.head()"
   ]
  },
  {
   "cell_type": "code",
   "execution_count": null,
   "metadata": {},
   "outputs": [],
   "source": []
  },
  {
   "cell_type": "markdown",
   "metadata": {},
   "source": [
    "#### Time to put these techinique we have learnt into practice"
   ]
  },
  {
   "cell_type": "code",
   "execution_count": 157,
   "metadata": {},
   "outputs": [],
   "source": [
    "from sklearn.metrics import accuracy_score, mean_absolute_error\n",
    "from sklearn.ensemble import RandomForestRegressor\n",
    "from sklearn.model_selection import train_test_split"
   ]
  },
  {
   "cell_type": "code",
   "execution_count": 158,
   "metadata": {},
   "outputs": [],
   "source": [
    "train = pd.read_csv('train.csv')\n",
    "test = pd.read_csv('test.csv')\n",
    "\n",
    "y = train['SalePrice']\n",
    "test_id = test['Id']\n",
    "\n",
    "# We will only be needing the numerical variables since we are not dealing with categorical variables in this section\n",
    "numerical_featues = numerical_features.remove('SalePrice')\n",
    "train = train[numerical_features]\n",
    "test = test[numerical_features]"
   ]
  },
  {
   "cell_type": "markdown",
   "metadata": {},
   "source": [
    "#### Dropping"
   ]
  },
  {
   "cell_type": "code",
   "execution_count": 159,
   "metadata": {},
   "outputs": [
    {
     "name": "stdout",
     "output_type": "stream",
     "text": [
      "Mean Absolute Error:  18002.143904109587\n"
     ]
    }
   ],
   "source": [
    "# DROPPING\n",
    "train.drop(['Id'],inplace=True, axis=1)\n",
    "test.drop(['Id'],inplace=True,axis=1)\n",
    "\n",
    "dropped_train = train.drop(features_with_missing,1)\n",
    "dropped_test = test.drop(features_with_missing,1)\n",
    "\n",
    "# Splitting and Training\n",
    "x_train, x_test, y_train, y_test = train_test_split(dropped_train, y, test_size=0.20)\n",
    "\n",
    "model = RandomForestRegressor(n_estimators=100)\n",
    "model.fit(x_train,y_train)\n",
    "pred = model.predict(x_test)\n",
    "\n",
    "print('Mean Absolute Error: ', mean_absolute_error(pred,y_test))"
   ]
  },
  {
   "cell_type": "markdown",
   "metadata": {},
   "source": [
    "### Imputing"
   ]
  },
  {
   "cell_type": "code",
   "execution_count": 160,
   "metadata": {},
   "outputs": [
    {
     "name": "stdout",
     "output_type": "stream",
     "text": [
      "Mean Absolute Error:  15125.395308219177\n"
     ]
    }
   ],
   "source": [
    "# FILLING WITH MEAN\n",
    "\n",
    "imputed_train = train.copy()\n",
    "imputed_test = test.copy()\n",
    "\n",
    "for col in imputed_train.columns:\n",
    "    if imputed_train[col].isna().any():\n",
    "        imputed_train[col].fillna(imputed_train[col].mean(), inplace=True)\n",
    "        \n",
    "for col in imputed_test.columns:\n",
    "    if imputed_test[col].isna().any():\n",
    "        imputed_test[col].fillna(imputed_test[col].mean(), inplace=True)\n",
    "\n",
    "\n",
    "# Splitting and Training\n",
    "\n",
    "x_train, x_test, y_train, y_test = train_test_split(imputed_train, y, test_size=0.20)\n",
    "\n",
    "model.fit(x_train,y_train)\n",
    "\n",
    "pred = model.predict(x_test)\n",
    "\n",
    "print('Mean Absolute Error: ', mean_absolute_error(pred,y_test))"
   ]
  },
  {
   "cell_type": "code",
   "execution_count": 161,
   "metadata": {},
   "outputs": [
    {
     "name": "stdout",
     "output_type": "stream",
     "text": [
      "Mean Absolute Error:  17670.5025456621\n"
     ]
    }
   ],
   "source": [
    "# FILLING WITH MEDIAN\n",
    "\n",
    "imputed_train = train.copy()\n",
    "imputed_test = test.copy()\n",
    "\n",
    "for col in imputed_train.columns:\n",
    "    if imputed_train[col].isna().any():\n",
    "        imputed_train[col].fillna(imputed_train[col].median(), inplace=True)\n",
    "        \n",
    "for col in imputed_test.columns:\n",
    "    if imputed_test[col].isna().any():\n",
    "        imputed_test[col].fillna(imputed_test[col].median(), inplace=True)\n",
    "        \n",
    "        \n",
    "# Splitting and Training\n",
    "x_train, x_test, y_train, y_test = train_test_split(imputed_train, y, test_size=0.20)\n",
    "\n",
    "model.fit(x_train,y_train)\n",
    "\n",
    "pred = model.predict(x_test)\n",
    "\n",
    "print('Mean Absolute Error: ', mean_absolute_error(pred,y_test))"
   ]
  },
  {
   "cell_type": "markdown",
   "metadata": {},
   "source": [
    "#### As  we can see, imputing the missing values improves the performance of the model by a great deal\n",
    "\n",
    "### Summary;\n",
    "##### - Only proper data analysis can help you determine the method to use when handling missing values\n",
    "##### - You only drop a column when the amount of missing values are much, because, they might not provide any meaningful information to the model\n",
    "##### - We don't have to handle missing values all the time as there are some machine learning models that can handle them, but that is outside the scope of this class"
   ]
  },
  {
   "cell_type": "markdown",
   "metadata": {},
   "source": [
    "#### Resourses:\n",
    "##### https://www.kaggle.com/learn/intermediate-machine-learning"
   ]
  }
 ],
 "metadata": {
  "colab": {
   "collapsed_sections": [],
   "name": "Handling Missing Values - Beginner Track 2.ipynb",
   "provenance": []
  },
  "kernelspec": {
   "display_name": "Python 3",
   "language": "python",
   "name": "python3"
  },
  "language_info": {
   "codemirror_mode": {
    "name": "ipython",
    "version": 3
   },
   "file_extension": ".py",
   "mimetype": "text/x-python",
   "name": "python",
   "nbconvert_exporter": "python",
   "pygments_lexer": "ipython3",
   "version": "3.7.4"
  }
 },
 "nbformat": 4,
 "nbformat_minor": 4
}
